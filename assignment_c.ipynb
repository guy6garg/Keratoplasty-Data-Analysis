{
 "cells": [
  {
   "cell_type": "markdown",
   "metadata": {},
   "source": [
    "### Contains Text Classification Pipeline which is to find surgery type from doctor notes"
   ]
  },
  {
   "cell_type": "code",
   "execution_count": 36,
   "metadata": {},
   "outputs": [
    {
     "name": "stdout",
     "output_type": "stream",
     "text": [
      "Accuracy: 1.0\n"
     ]
    }
   ],
   "source": [
    "import pandas as pd\n",
    "from sklearn.model_selection import train_test_split\n",
    "from sklearn.feature_extraction.text import TfidfVectorizer\n",
    "from sklearn.linear_model import LogisticRegression\n",
    "from sklearn.pipeline import make_pipeline\n",
    "from sklearn.metrics import accuracy_score, confusion_matrix, classification_report\n",
    "import streamlit as st\n",
    "import numpy as np\n",
    "from datetime import datetime\n",
    "from sklearn.preprocessing import StandardScaler, LabelEncoder\n",
    "from sklearn.ensemble import RandomForestClassifier\n",
    "\n",
    "# Load the doctor notes and patient records dataset\n",
    "doctor_notes = pd.read_csv('doctor_notes.csv')\n",
    "doctor_notes.set_index('Patient ID', inplace=True)\n",
    "doctor_notes.sort_index(inplace=True)\n",
    "\n",
    "patient_records = pd.read_csv('patient_records.csv')\n",
    "patient_records.drop('Unnamed: 0', axis = 1, inplace=True)\n",
    "patient_records.set_index('Patient ID', inplace=True)\n",
    "patient_records.sort_index(inplace=True)\n",
    "\n",
    "# Preprocess the data\n",
    "X_notes = doctor_notes['Doctor Notes']\n",
    "y_surgery = patient_records['Surgery Type']\n",
    "\n",
    "# Split the data\n",
    "X_train_notes, X_test_notes, y_train_notes, y_test_notes = train_test_split(X_notes, y_surgery, test_size=0.2, random_state=42)\n",
    "\n",
    "# Create a text classification pipeline\n",
    "text_clf = make_pipeline(TfidfVectorizer(), LogisticRegression())\n",
    "\n",
    "# Train the model\n",
    "text_clf.fit(X_train_notes, y_train_notes)\n",
    "\n",
    "# Evaluate the model\n",
    "y_pred_notes = text_clf.predict(X_test_notes)\n",
    "\n",
    "print('Accuracy:', accuracy_score(y_test_notes, y_pred_notes))"
   ]
  },
  {
   "cell_type": "code",
   "execution_count": 40,
   "metadata": {},
   "outputs": [
    {
     "name": "stdout",
     "output_type": "stream",
     "text": [
      "Accuracy: 0.7948717948717948\n",
      "Confusion Matrix:\n",
      " [[ 8  6]\n",
      " [10 54]]\n",
      "Classification Report:\n",
      "               precision    recall  f1-score   support\n",
      "\n",
      "           0       0.44      0.57      0.50        14\n",
      "           1       0.90      0.84      0.87        64\n",
      "\n",
      "    accuracy                           0.79        78\n",
      "   macro avg       0.67      0.71      0.69        78\n",
      "weighted avg       0.82      0.79      0.80        78\n",
      "\n"
     ]
    },
    {
     "name": "stderr",
     "output_type": "stream",
     "text": [
      "/var/folders/dn/_z78g72x2453h233_6_pcg000000gn/T/ipykernel_86612/232763358.py:12: SettingWithCopyWarning: \n",
      "A value is trying to be set on a copy of a slice from a DataFrame.\n",
      "Try using .loc[row_indexer,col_indexer] = value instead\n",
      "\n",
      "See the caveats in the documentation: https://pandas.pydata.org/pandas-docs/stable/user_guide/indexing.html#returning-a-view-versus-a-copy\n",
      "  patient_records_encoded[col] = le.fit_transform(patient_records_encoded[col])\n",
      "/var/folders/dn/_z78g72x2453h233_6_pcg000000gn/T/ipykernel_86612/232763358.py:12: SettingWithCopyWarning: \n",
      "A value is trying to be set on a copy of a slice from a DataFrame.\n",
      "Try using .loc[row_indexer,col_indexer] = value instead\n",
      "\n",
      "See the caveats in the documentation: https://pandas.pydata.org/pandas-docs/stable/user_guide/indexing.html#returning-a-view-versus-a-copy\n",
      "  patient_records_encoded[col] = le.fit_transform(patient_records_encoded[col])\n",
      "/var/folders/dn/_z78g72x2453h233_6_pcg000000gn/T/ipykernel_86612/232763358.py:12: SettingWithCopyWarning: \n",
      "A value is trying to be set on a copy of a slice from a DataFrame.\n",
      "Try using .loc[row_indexer,col_indexer] = value instead\n",
      "\n",
      "See the caveats in the documentation: https://pandas.pydata.org/pandas-docs/stable/user_guide/indexing.html#returning-a-view-versus-a-copy\n",
      "  patient_records_encoded[col] = le.fit_transform(patient_records_encoded[col])\n"
     ]
    }
   ],
   "source": [
    "# Handle 'Not determined' values in the Outcome column\n",
    "patient_records['Outcome'] = patient_records['Outcome'].replace('Not determined', np.nan)\n",
    "\n",
    "# Drop rows with NaN values in the Outcome column\n",
    "patient_records_encoded = patient_records.dropna(subset=['Outcome'])\n",
    "\n",
    "# Preprocess patient records\n",
    "label_encoder = {}\n",
    "categorical_columns = ['Gender', 'Outcome', 'Surgery Type']  # Add other categorical columns as needed\n",
    "for col in categorical_columns:\n",
    "    le = LabelEncoder()\n",
    "    patient_records_encoded[col] = le.fit_transform(patient_records_encoded[col])\n",
    "    label_encoder[col] = le\n",
    "\n",
    "# Define features and target for the determined dataset\n",
    "X_determined = patient_records_encoded.drop('Outcome', axis=1)\n",
    "y_determined = patient_records_encoded['Outcome']\n",
    "\n",
    "# Train the Random Forest model (assuming this is the final model)\n",
    "X_train, X_test, y_train, y_test = train_test_split(X_determined, y_determined, test_size=0.2, random_state=42)\n",
    "# Initialize the scaler\n",
    "scaler = StandardScaler()\n",
    "X_train_scaled = scaler.fit_transform(X_train)\n",
    "X_test_scaled = scaler.transform(X_test)\n",
    "logistic_regression = LogisticRegression(random_state=42)\n",
    "logistic_regression.fit(X_train_scaled, y_train)\n",
    "\n",
    "# Evaluate the model\n",
    "y_pred = logistic_regression.predict(X_test_scaled)\n",
    "print('Accuracy:', accuracy_score(y_test, y_pred))\n",
    "print('Confusion Matrix:\\n', confusion_matrix(y_test, y_pred))\n",
    "print('Classification Report:\\n', classification_report(y_test, y_pred))"
   ]
  },
  {
   "cell_type": "code",
   "execution_count": null,
   "metadata": {},
   "outputs": [],
   "source": []
  }
 ],
 "metadata": {
  "kernelspec": {
   "display_name": ".venv",
   "language": "python",
   "name": "python3"
  },
  "language_info": {
   "codemirror_mode": {
    "name": "ipython",
    "version": 3
   },
   "file_extension": ".py",
   "mimetype": "text/x-python",
   "name": "python",
   "nbconvert_exporter": "python",
   "pygments_lexer": "ipython3",
   "version": "3.9.6"
  }
 },
 "nbformat": 4,
 "nbformat_minor": 2
}
