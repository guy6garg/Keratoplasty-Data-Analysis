{
 "cells": [
  {
   "cell_type": "markdown",
   "metadata": {},
   "source": [
    "# Feature Extraction and Model Building\n",
    "Since, from EDA we know that there is a good chunk of Not determined outcomes so in this notebook done two experiments which are:\n",
    "1. Predict the 'Not determined' outcome and then train the model\n",
    "2. Train the models only using determined outcomes"
   ]
  },
  {
   "cell_type": "code",
   "execution_count": 118,
   "metadata": {},
   "outputs": [],
   "source": [
    "import pandas as pd\n",
    "import numpy as np\n",
    "import matplotlib.pyplot as plt\n",
    "import seaborn as sns\n",
    "from sklearn.model_selection import train_test_split\n",
    "from sklearn.preprocessing import StandardScaler, LabelEncoder\n",
    "from sklearn.metrics import accuracy_score, confusion_matrix, classification_report\n",
    "from sklearn.ensemble import RandomForestClassifier"
   ]
  },
  {
   "cell_type": "markdown",
   "metadata": {},
   "source": [
    "### Load Datatset and Feature Processing for predicting Not determined Outcomes\n",
    "1. For preprocessing: Deleted All Not determined Outcomes and set the index as Patient ID\n",
    "2. For features encoded categorical variables using label_encoder and used age and last days from surgery as parameter\n"
   ]
  },
  {
   "cell_type": "code",
   "execution_count": 119,
   "metadata": {},
   "outputs": [
    {
     "name": "stdout",
     "output_type": "stream",
     "text": [
      "387\n"
     ]
    },
    {
     "name": "stderr",
     "output_type": "stream",
     "text": [
      "/var/folders/dn/_z78g72x2453h233_6_pcg000000gn/T/ipykernel_89537/1526408592.py:18: SettingWithCopyWarning: \n",
      "A value is trying to be set on a copy of a slice from a DataFrame.\n",
      "Try using .loc[row_indexer,col_indexer] = value instead\n",
      "\n",
      "See the caveats in the documentation: https://pandas.pydata.org/pandas-docs/stable/user_guide/indexing.html#returning-a-view-versus-a-copy\n",
      "  determined[col] = le.fit_transform(determined[col])\n",
      "/var/folders/dn/_z78g72x2453h233_6_pcg000000gn/T/ipykernel_89537/1526408592.py:18: SettingWithCopyWarning: \n",
      "A value is trying to be set on a copy of a slice from a DataFrame.\n",
      "Try using .loc[row_indexer,col_indexer] = value instead\n",
      "\n",
      "See the caveats in the documentation: https://pandas.pydata.org/pandas-docs/stable/user_guide/indexing.html#returning-a-view-versus-a-copy\n",
      "  determined[col] = le.fit_transform(determined[col])\n",
      "/var/folders/dn/_z78g72x2453h233_6_pcg000000gn/T/ipykernel_89537/1526408592.py:18: SettingWithCopyWarning: \n",
      "A value is trying to be set on a copy of a slice from a DataFrame.\n",
      "Try using .loc[row_indexer,col_indexer] = value instead\n",
      "\n",
      "See the caveats in the documentation: https://pandas.pydata.org/pandas-docs/stable/user_guide/indexing.html#returning-a-view-versus-a-copy\n",
      "  determined[col] = le.fit_transform(determined[col])\n"
     ]
    }
   ],
   "source": [
    "# Load the dataset\n",
    "patient_records = pd.read_csv('patient_records.csv')\n",
    "patient_records.drop('Unnamed: 0', axis = 1, inplace=True)\n",
    "patient_records.set_index('Patient ID', inplace=True)\n",
    "# Handle 'Non Determined' values in the Outcome column by replacing it with null value\n",
    "patient_records['Outcome'] = patient_records['Outcome'].replace('Not determined', np.nan)\n",
    "\n",
    "# Separate the data into two parts: determined and non-determined outcomes\n",
    "determined = patient_records.dropna(subset=['Outcome'])\n",
    "non_determined = patient_records[patient_records['Outcome'].isna()]\n",
    "print(len(determined))\n",
    "\n",
    "# Encode categorical variables in the determined dataset\n",
    "label_encoder = {}\n",
    "categorical_columns = ['Gender', 'Outcome', 'Surgery Type'] # Add other categorical columns as needed\n",
    "for col in categorical_columns:\n",
    "    le = LabelEncoder()\n",
    "    determined[col] = le.fit_transform(determined[col])\n",
    "    label_encoder[col] = le\n",
    "\n",
    "\n",
    "# Alternatively, can fill missing values but for this assignment only using prediction method and not interpolation\n",
    "# patient_records_cleaned['Outcome'] = patient_records_cleaned['Outcome'].fillna('Some Value')\n",
    "\n"
   ]
  },
  {
   "cell_type": "code",
   "execution_count": 120,
   "metadata": {},
   "outputs": [],
   "source": [
    "# Define features and target for the determined dataset\n",
    "X_determined = determined.drop(['Outcome'], axis=1)\n",
    "y_determined = determined['Outcome']\n",
    "\n",
    "# Split the data into training and test sets\n",
    "X_train, X_test, y_train, y_test = train_test_split(X_determined, y_determined, test_size=0.1, random_state=42)\n",
    "# Scale numerical features\n",
    "scaler = StandardScaler()\n",
    "X_train_scaled = scaler.fit_transform(X_train)\n",
    "X_test_scaled = scaler.transform(X_test)\n",
    "# print(X_train_scaled)"
   ]
  },
  {
   "cell_type": "markdown",
   "metadata": {},
   "source": [
    "Using Random Forest Classifier for the prediction"
   ]
  },
  {
   "cell_type": "code",
   "execution_count": 121,
   "metadata": {},
   "outputs": [
    {
     "name": "stdout",
     "output_type": "stream",
     "text": [
      "Accuracy: 0.7692307692307693\n",
      "Confusion Matrix:\n",
      " [[ 3  5]\n",
      " [ 4 27]]\n",
      "Classification Report:\n",
      "               precision    recall  f1-score   support\n",
      "\n",
      "           0       0.43      0.38      0.40         8\n",
      "           1       0.84      0.87      0.86        31\n",
      "\n",
      "    accuracy                           0.77        39\n",
      "   macro avg       0.64      0.62      0.63        39\n",
      "weighted avg       0.76      0.77      0.76        39\n",
      "\n"
     ]
    }
   ],
   "source": [
    "# Initialize and train a model (e.g., Random Forest)\n",
    "random_forest = RandomForestClassifier(random_state=42)\n",
    "random_forest.fit(X_train, y_train)\n",
    "\n",
    "# Evaluate the model\n",
    "y_pred = random_forest.predict(X_test)\n",
    "print('Accuracy:', accuracy_score(y_test, y_pred))\n",
    "print('Confusion Matrix:\\n', confusion_matrix(y_test, y_pred))\n",
    "print('Classification Report:\\n', classification_report(y_test, y_pred))"
   ]
  },
  {
   "cell_type": "markdown",
   "metadata": {},
   "source": [
    "### Predicting 'Non Determined' Outcomes"
   ]
  },
  {
   "cell_type": "code",
   "execution_count": 122,
   "metadata": {},
   "outputs": [
    {
     "name": "stderr",
     "output_type": "stream",
     "text": [
      "/var/folders/dn/_z78g72x2453h233_6_pcg000000gn/T/ipykernel_89537/399569826.py:5: SettingWithCopyWarning: \n",
      "A value is trying to be set on a copy of a slice from a DataFrame.\n",
      "Try using .loc[row_indexer,col_indexer] = value instead\n",
      "\n",
      "See the caveats in the documentation: https://pandas.pydata.org/pandas-docs/stable/user_guide/indexing.html#returning-a-view-versus-a-copy\n",
      "  non_determined[col] = label_encoder[col].transform(non_determined[col])\n",
      "/var/folders/dn/_z78g72x2453h233_6_pcg000000gn/T/ipykernel_89537/399569826.py:5: SettingWithCopyWarning: \n",
      "A value is trying to be set on a copy of a slice from a DataFrame.\n",
      "Try using .loc[row_indexer,col_indexer] = value instead\n",
      "\n",
      "See the caveats in the documentation: https://pandas.pydata.org/pandas-docs/stable/user_guide/indexing.html#returning-a-view-versus-a-copy\n",
      "  non_determined[col] = label_encoder[col].transform(non_determined[col])\n",
      "/Users/yuggarg/Desktop/.venv/lib/python3.9/site-packages/sklearn/base.py:493: UserWarning: X does not have valid feature names, but RandomForestClassifier was fitted with feature names\n",
      "  warnings.warn(\n"
     ]
    }
   ],
   "source": [
    "# Prepare the non-determined dataset for prediction\n",
    "\n",
    "# Encode categorical variables in the non-determined dataset\n",
    "for col in ['Gender', 'Surgery Type']:\n",
    "    non_determined[col] = label_encoder[col].transform(non_determined[col])\n",
    "\n",
    "# Ensure the columns match between the determined and non-determined datasets\n",
    "non_determined = non_determined[X_determined.columns]\n",
    "\n",
    "# Scale numerical features\n",
    "non_determined_scaled = scaler.transform(non_determined)\n",
    "\n",
    "# Predict the 'Non Determined' outcomes\n",
    "non_determined['Outcome'] = random_forest.predict(non_determined_scaled)"
   ]
  },
  {
   "cell_type": "code",
   "execution_count": 123,
   "metadata": {},
   "outputs": [
    {
     "name": "stderr",
     "output_type": "stream",
     "text": [
      "/var/folders/dn/_z78g72x2453h233_6_pcg000000gn/T/ipykernel_89537/2002537021.py:4: SettingWithCopyWarning: \n",
      "A value is trying to be set on a copy of a slice from a DataFrame.\n",
      "Try using .loc[row_indexer,col_indexer] = value instead\n",
      "\n",
      "See the caveats in the documentation: https://pandas.pydata.org/pandas-docs/stable/user_guide/indexing.html#returning-a-view-versus-a-copy\n",
      "  determined[col] = le.inverse_transform(determined[col])\n",
      "/var/folders/dn/_z78g72x2453h233_6_pcg000000gn/T/ipykernel_89537/2002537021.py:4: SettingWithCopyWarning: \n",
      "A value is trying to be set on a copy of a slice from a DataFrame.\n",
      "Try using .loc[row_indexer,col_indexer] = value instead\n",
      "\n",
      "See the caveats in the documentation: https://pandas.pydata.org/pandas-docs/stable/user_guide/indexing.html#returning-a-view-versus-a-copy\n",
      "  determined[col] = le.inverse_transform(determined[col])\n",
      "/var/folders/dn/_z78g72x2453h233_6_pcg000000gn/T/ipykernel_89537/2002537021.py:4: SettingWithCopyWarning: \n",
      "A value is trying to be set on a copy of a slice from a DataFrame.\n",
      "Try using .loc[row_indexer,col_indexer] = value instead\n",
      "\n",
      "See the caveats in the documentation: https://pandas.pydata.org/pandas-docs/stable/user_guide/indexing.html#returning-a-view-versus-a-copy\n",
      "  determined[col] = le.inverse_transform(determined[col])\n"
     ]
    }
   ],
   "source": [
    "categorical_columns = ['Gender','Surgery Type', 'Outcome']\n",
    "for col in categorical_columns:\n",
    "    le = label_encoder[col]\n",
    "    determined[col] = le.inverse_transform(determined[col])\n",
    "    non_determined[col] = le.inverse_transform(non_determined[col])"
   ]
  },
  {
   "cell_type": "code",
   "execution_count": 124,
   "metadata": {},
   "outputs": [
    {
     "data": {
      "text/plain": [
       "Outcome\n",
       "Pass    113\n",
       "Name: count, dtype: int64"
      ]
     },
     "execution_count": 124,
     "metadata": {},
     "output_type": "execute_result"
    }
   ],
   "source": [
    "non_determined['Outcome'].value_counts()"
   ]
  },
  {
   "cell_type": "markdown",
   "metadata": {},
   "source": [
    "All the non determined outcome came to be 'Pass' which is an indication of Pass Biasity in the determined outcomes"
   ]
  },
  {
   "cell_type": "code",
   "execution_count": 108,
   "metadata": {},
   "outputs": [],
   "source": [
    "# Combine the determined and non-determined datasets\n",
    "patient_records_combined = pd.concat([determined, non_determined])\n",
    "\n",
    "# Display the combined dataset\n",
    "patient_records_combined.sort_index(inplace=True)\n",
    "patient_records_combined.to_csv(\"patient_records_combined.csv\")"
   ]
  },
  {
   "cell_type": "markdown",
   "metadata": {},
   "source": [
    "Combining determined and non determined dataset to create a new dataset which is to be used in model fitting experiments"
   ]
  },
  {
   "cell_type": "markdown",
   "metadata": {},
   "source": [
    "# Model Building\n",
    "\n",
    "### Since, this is a classification problem and dataset is small using Random Forest, XGBoost and Logistic Regression models for experimenting"
   ]
  },
  {
   "cell_type": "code",
   "execution_count": 110,
   "metadata": {},
   "outputs": [
    {
     "name": "stderr",
     "output_type": "stream",
     "text": [
      "/var/folders/dn/_z78g72x2453h233_6_pcg000000gn/T/ipykernel_89537/1255025576.py:32: SettingWithCopyWarning: \n",
      "A value is trying to be set on a copy of a slice from a DataFrame.\n",
      "Try using .loc[row_indexer,col_indexer] = value instead\n",
      "\n",
      "See the caveats in the documentation: https://pandas.pydata.org/pandas-docs/stable/user_guide/indexing.html#returning-a-view-versus-a-copy\n",
      "  patient_records_cleaned[col] = le.fit_transform(patient_records_cleaned[col])\n",
      "/var/folders/dn/_z78g72x2453h233_6_pcg000000gn/T/ipykernel_89537/1255025576.py:32: SettingWithCopyWarning: \n",
      "A value is trying to be set on a copy of a slice from a DataFrame.\n",
      "Try using .loc[row_indexer,col_indexer] = value instead\n",
      "\n",
      "See the caveats in the documentation: https://pandas.pydata.org/pandas-docs/stable/user_guide/indexing.html#returning-a-view-versus-a-copy\n",
      "  patient_records_cleaned[col] = le.fit_transform(patient_records_cleaned[col])\n",
      "/var/folders/dn/_z78g72x2453h233_6_pcg000000gn/T/ipykernel_89537/1255025576.py:32: SettingWithCopyWarning: \n",
      "A value is trying to be set on a copy of a slice from a DataFrame.\n",
      "Try using .loc[row_indexer,col_indexer] = value instead\n",
      "\n",
      "See the caveats in the documentation: https://pandas.pydata.org/pandas-docs/stable/user_guide/indexing.html#returning-a-view-versus-a-copy\n",
      "  patient_records_cleaned[col] = le.fit_transform(patient_records_cleaned[col])\n"
     ]
    }
   ],
   "source": [
    "import pandas as pd\n",
    "import numpy as np\n",
    "from sklearn.model_selection import train_test_split, GridSearchCV\n",
    "from sklearn.preprocessing import StandardScaler, LabelEncoder\n",
    "from sklearn.metrics import accuracy_score, confusion_matrix, classification_report\n",
    "from sklearn.linear_model import LogisticRegression\n",
    "from sklearn.ensemble import RandomForestClassifier\n",
    "import xgboost as xgb\n",
    "import matplotlib.pyplot as plt\n",
    "import seaborn as sns\n",
    "\n",
    "# Load the dataset\n",
    "patient_records = pd.read_csv('patient_records.csv')\n",
    "patient_records.drop('Unnamed: 0', axis = 1, inplace=True)\n",
    "patient_records.set_index('Patient ID', inplace=True)\n",
    "# Handle 'Non Determined' values in the Outcome column\n",
    "patient_records['Outcome'] = patient_records['Outcome'].replace('Not determined', np.nan)\n",
    "\n",
    "# Drop rows with NaN values in the Outcome column\n",
    "patient_records_cleaned = patient_records.dropna(subset=['Outcome'])\n",
    "\n",
    "# Alternatively, can fill missing values with appropriate statistics (mean, median, mode)\n",
    "# patient_records_cleaned = patient_records.fillna(patient_records.median())\n",
    "\n",
    "# Encode categorical variables\n",
    "label_encoder = {}\n",
    "label_encoder_combined = {}\n",
    "categorical_columns = ['Gender', 'Outcome', 'Surgery Type']  # Add other categorical columns as needed\n",
    "for col in categorical_columns:\n",
    "    le = LabelEncoder()\n",
    "    le_combined = LabelEncoder()\n",
    "    patient_records_cleaned[col] = le.fit_transform(patient_records_cleaned[col])\n",
    "    patient_records_combined[col] = le_combined.fit_transform(patient_records_combined[col])\n",
    "    label_encoder[col] = le\n",
    "    label_encoder_combined[col] = le_combined\n"
   ]
  },
  {
   "cell_type": "markdown",
   "metadata": {},
   "source": [
    "### For features converted the categorical variables using label encoder and used other continous variables\n",
    "For future work can use one hot encoding on surgery type and it might help better train the models"
   ]
  },
  {
   "cell_type": "code",
   "execution_count": 112,
   "metadata": {},
   "outputs": [],
   "source": [
    "# Define features and target\n",
    "X = patient_records_cleaned.drop('Outcome', axis=1)\n",
    "X_combined = patient_records_combined.drop('Outcome', axis=1)\n",
    "y = patient_records_cleaned['Outcome']\n",
    "y_combined = patient_records_combined['Outcome']\n",
    "\n",
    "# Split the data into training and test sets\n",
    "X_train, X_test, y_train, y_test = train_test_split(X, y, test_size=0.2, random_state=42)\n",
    "X_train_combined, X_test_combined, y_train_combined, y_test_combined = train_test_split(X_combined, y_combined, test_size=0.2, random_state=52)\n",
    "\n",
    "# Scale numerical features\n",
    "scaler = StandardScaler()\n",
    "X_train_scaled = scaler.fit_transform(X_train)\n",
    "X_train_combined_scaled = scaler.fit_transform(X_train_combined)\n",
    "X_test_scaled = scaler.transform(X_test)\n",
    "X_test_combined_scaled = scaler.transform(X_test_combined)"
   ]
  },
  {
   "cell_type": "markdown",
   "metadata": {},
   "source": [
    "## Metric\n",
    "Using Accuracy Score, Confusion Matrix and Classification Matrix which would calculate recall, precison and F1 score from the confusion matrix"
   ]
  },
  {
   "cell_type": "code",
   "execution_count": 113,
   "metadata": {},
   "outputs": [
    {
     "name": "stdout",
     "output_type": "stream",
     "text": [
      "--- Logistic Regression ---\n",
      "Accuracy: 0.7948717948717948\n",
      "Confusion Matrix:\n",
      " [[ 8  6]\n",
      " [10 54]]\n",
      "Classification Report:\n",
      "               precision    recall  f1-score   support\n",
      "\n",
      "           0       0.44      0.57      0.50        14\n",
      "           1       0.90      0.84      0.87        64\n",
      "\n",
      "    accuracy                           0.79        78\n",
      "   macro avg       0.67      0.71      0.69        78\n",
      "weighted avg       0.82      0.79      0.80        78\n",
      "\n",
      "\n",
      "\n",
      "--- Random Forest ---\n",
      "Accuracy: 0.7692307692307693\n",
      "Confusion Matrix:\n",
      " [[ 7  7]\n",
      " [11 53]]\n",
      "Classification Report:\n",
      "               precision    recall  f1-score   support\n",
      "\n",
      "           0       0.39      0.50      0.44        14\n",
      "           1       0.88      0.83      0.85        64\n",
      "\n",
      "    accuracy                           0.77        78\n",
      "   macro avg       0.64      0.66      0.65        78\n",
      "weighted avg       0.79      0.77      0.78        78\n",
      "\n",
      "\n",
      "\n",
      "--- XGBoost ---\n",
      "Accuracy: 0.7435897435897436\n",
      "Confusion Matrix:\n",
      " [[ 6  8]\n",
      " [12 52]]\n",
      "Classification Report:\n",
      "               precision    recall  f1-score   support\n",
      "\n",
      "           0       0.33      0.43      0.38        14\n",
      "           1       0.87      0.81      0.84        64\n",
      "\n",
      "    accuracy                           0.74        78\n",
      "   macro avg       0.60      0.62      0.61        78\n",
      "weighted avg       0.77      0.74      0.76        78\n",
      "\n",
      "\n",
      "\n"
     ]
    }
   ],
   "source": [
    "# Initialize models\n",
    "logistic_regression = LogisticRegression(random_state=42)\n",
    "random_forest = RandomForestClassifier(random_state=42)\n",
    "xgboost = xgb.XGBClassifier(random_state=42)\n",
    "\n",
    "# Train models\n",
    "logistic_regression.fit(X_train_scaled, y_train)\n",
    "random_forest.fit(X_train, y_train)  # Random Forest doesn't need scaling\n",
    "xgboost.fit(X_train, y_train)  # XGBoost doesn't need scaling\n",
    "\n",
    "# Predict and evaluate models\n",
    "models = {'Logistic Regression': logistic_regression, \n",
    "          'Random Forest': random_forest, \n",
    "          'XGBoost': xgboost}\n",
    "\n",
    "for name, model in models.items():\n",
    "    y_pred = model.predict(X_test_scaled if name == 'Logistic Regression' else X_test)\n",
    "    print(f'--- {name} ---')\n",
    "    print('Accuracy:', accuracy_score(y_test, y_pred))\n",
    "    print('Confusion Matrix:\\n', confusion_matrix(y_test, y_pred))\n",
    "    print('Classification Report:\\n', classification_report(y_test, y_pred))\n",
    "    print('\\n')"
   ]
  },
  {
   "cell_type": "markdown",
   "metadata": {},
   "source": [
    "### Using Predicted \"Non Determined\" Outcomes"
   ]
  },
  {
   "cell_type": "code",
   "execution_count": 114,
   "metadata": {},
   "outputs": [
    {
     "name": "stdout",
     "output_type": "stream",
     "text": [
      "--- Logistic Regression ---\n",
      "Accuracy: 0.77\n",
      "Confusion Matrix:\n",
      " [[ 2 20]\n",
      " [ 3 75]]\n",
      "Classification Report:\n",
      "               precision    recall  f1-score   support\n",
      "\n",
      "           0       0.40      0.09      0.15        22\n",
      "           1       0.79      0.96      0.87        78\n",
      "\n",
      "    accuracy                           0.77       100\n",
      "   macro avg       0.59      0.53      0.51       100\n",
      "weighted avg       0.70      0.77      0.71       100\n",
      "\n",
      "\n",
      "\n",
      "--- Random Forest ---\n",
      "Accuracy: 0.77\n",
      "Confusion Matrix:\n",
      " [[ 6 16]\n",
      " [ 7 71]]\n",
      "Classification Report:\n",
      "               precision    recall  f1-score   support\n",
      "\n",
      "           0       0.46      0.27      0.34        22\n",
      "           1       0.82      0.91      0.86        78\n",
      "\n",
      "    accuracy                           0.77       100\n",
      "   macro avg       0.64      0.59      0.60       100\n",
      "weighted avg       0.74      0.77      0.75       100\n",
      "\n",
      "\n",
      "\n",
      "--- XGBoost ---\n",
      "Accuracy: 0.74\n",
      "Confusion Matrix:\n",
      " [[ 7 15]\n",
      " [11 67]]\n",
      "Classification Report:\n",
      "               precision    recall  f1-score   support\n",
      "\n",
      "           0       0.39      0.32      0.35        22\n",
      "           1       0.82      0.86      0.84        78\n",
      "\n",
      "    accuracy                           0.74       100\n",
      "   macro avg       0.60      0.59      0.59       100\n",
      "weighted avg       0.72      0.74      0.73       100\n",
      "\n",
      "\n",
      "\n"
     ]
    }
   ],
   "source": [
    "# Initialize models\n",
    "logistic_regression = LogisticRegression(random_state=52)\n",
    "random_forest = RandomForestClassifier(random_state=52)\n",
    "xgboost = xgb.XGBClassifier(random_state=52)\n",
    "\n",
    "# Train models\n",
    "logistic_regression.fit(X_train_combined_scaled, y_train_combined)\n",
    "random_forest.fit(X_train_combined, y_train_combined)  # Random Forest doesn't need scaling\n",
    "xgboost.fit(X_train_combined, y_train_combined)  # XGBoost doesn't need scaling\n",
    "\n",
    "# Predict and evaluate models\n",
    "models = {'Logistic Regression': logistic_regression, \n",
    "          'Random Forest': random_forest, \n",
    "          'XGBoost': xgboost}\n",
    "\n",
    "for name, model in models.items():\n",
    "    y_pred_combined = model.predict(X_test_combined_scaled if name == 'Logistic Regression' else X_test_combined)\n",
    "    print(f'--- {name} ---')\n",
    "    print('Accuracy:', accuracy_score(y_test_combined, y_pred_combined))\n",
    "    print('Confusion Matrix:\\n', confusion_matrix(y_test_combined, y_pred_combined))\n",
    "    print('Classification Report:\\n', classification_report(y_test_combined, y_pred_combined))\n",
    "    print('\\n')"
   ]
  },
  {
   "cell_type": "markdown",
   "metadata": {},
   "source": [
    "**It can be seen that F1 score of Logistic Regression is outperforming in both the experiments, would be using Logistic Regression for the third part**"
   ]
  },
  {
   "cell_type": "code",
   "execution_count": 115,
   "metadata": {},
   "outputs": [
    {
     "name": "stdout",
     "output_type": "stream",
     "text": [
      "Fitting 3 folds for each of 24 candidates, totalling 72 fits\n",
      "Fitting 3 folds for each of 18 candidates, totalling 54 fits\n",
      "--- Best Random Forest ---\n",
      "Accuracy: 0.8205128205128205\n",
      "Confusion Matrix:\n",
      " [[ 9  5]\n",
      " [ 9 55]]\n",
      "Classification Report:\n",
      "               precision    recall  f1-score   support\n",
      "\n",
      "           0       0.50      0.64      0.56        14\n",
      "           1       0.92      0.86      0.89        64\n",
      "\n",
      "    accuracy                           0.82        78\n",
      "   macro avg       0.71      0.75      0.72        78\n",
      "weighted avg       0.84      0.82      0.83        78\n",
      "\n",
      "\n",
      "\n",
      "--- Best XGBoost ---\n",
      "Accuracy: 0.8205128205128205\n",
      "Confusion Matrix:\n",
      " [[ 8  6]\n",
      " [ 8 56]]\n",
      "Classification Report:\n",
      "               precision    recall  f1-score   support\n",
      "\n",
      "           0       0.50      0.57      0.53        14\n",
      "           1       0.90      0.88      0.89        64\n",
      "\n",
      "    accuracy                           0.82        78\n",
      "   macro avg       0.70      0.72      0.71        78\n",
      "weighted avg       0.83      0.82      0.83        78\n",
      "\n",
      "\n",
      "\n"
     ]
    }
   ],
   "source": [
    "# Hyperparameter tuning for Random Forest using GridSearchCV\n",
    "param_grid_rf = {\n",
    "    'n_estimators': [100, 200],\n",
    "    'max_depth': [None, 10, 20],\n",
    "    'min_samples_split': [2, 5],\n",
    "    'min_samples_leaf': [1, 2]\n",
    "}\n",
    "grid_search_rf = GridSearchCV(random_forest, param_grid_rf, cv=3, scoring='accuracy', n_jobs=-1, verbose=1)\n",
    "grid_search_rf.fit(X_train, y_train)\n",
    "\n",
    "# Hyperparameter tuning for XGBoost using GridSearchCV\n",
    "param_grid_xgb = {\n",
    "    'n_estimators': [100, 200],\n",
    "    'max_depth': [3, 6, 10],\n",
    "    'learning_rate': [0.01, 0.1, 0.2]\n",
    "}\n",
    "grid_search_xgb = GridSearchCV(xgboost, param_grid_xgb, cv=3, scoring='accuracy', n_jobs=-1, verbose=1)\n",
    "grid_search_xgb.fit(X_train, y_train)\n",
    "\n",
    "# Best models from GridSearchCV\n",
    "best_rf = grid_search_rf.best_estimator_\n",
    "best_xgb = grid_search_xgb.best_estimator_\n",
    "\n",
    "# Evaluate best models\n",
    "best_models = {'Best Random Forest': best_rf, 'Best XGBoost': best_xgb}\n",
    "for name, model in best_models.items():\n",
    "    y_pred = model.predict(X_test)\n",
    "    print(f'--- {name} ---')\n",
    "    print('Accuracy:', accuracy_score(y_test, y_pred))\n",
    "    print('Confusion Matrix:\\n', confusion_matrix(y_test, y_pred))\n",
    "    print('Classification Report:\\n', classification_report(y_test, y_pred))\n",
    "    print('\\n')"
   ]
  },
  {
   "cell_type": "code",
   "execution_count": 116,
   "metadata": {},
   "outputs": [
    {
     "data": {
      "image/png": "[encoded data removed]",
      "text/plain": [
       "<Figure size 1200x800 with 1 Axes>"
      ]
     },
     "metadata": {},
     "output_type": "display_data"
    },
    {
     "data": {
      "image/png": "[encoded data removed]",
      "text/plain": [
       "<Figure size 1200x800 with 1 Axes>"
      ]
     },
     "metadata": {},
     "output_type": "display_data"
    }
   ],
   "source": [
    "# Feature importance for Random Forest\n",
    "importances_rf = best_rf.feature_importances_\n",
    "indices_rf = np.argsort(importances_rf)[::-1]\n",
    "features_rf = X.columns\n",
    "\n",
    "plt.figure(figsize=(12, 8))\n",
    "plt.title('Feature Importances - Random Forest')\n",
    "plt.bar(range(X.shape[1]), importances_rf[indices_rf], align='center')\n",
    "plt.xticks(range(X.shape[1]), features_rf[indices_rf], rotation=90)\n",
    "plt.tight_layout()\n",
    "plt.show()\n",
    "\n",
    "# Feature importance for XGBoost\n",
    "importances_xgb = best_xgb.feature_importances_\n",
    "indices_xgb = np.argsort(importances_xgb)[::-1]\n",
    "features_xgb = X.columns\n",
    "\n",
    "plt.figure(figsize=(12, 8))\n",
    "plt.title('Feature Importances - XGBoost')\n",
    "plt.bar(range(X.shape[1]), importances_xgb[indices_xgb], align='center')\n",
    "plt.xticks(range(X.shape[1]), features_xgb[indices_xgb], rotation=90)\n",
    "plt.tight_layout()\n",
    "plt.show()"
   ]
  },
  {
   "cell_type": "markdown",
   "metadata": {},
   "source": [
    "Done hyperparamter tuning on tree classifiers usind GridSearchCV Module and from that it can be seen that for random forest is fitted on considering all the features but XGBoost is more biased on surgery_type"
   ]
  },
  {
   "cell_type": "code",
   "execution_count": null,
   "metadata": {},
   "outputs": [],
   "source": []
  }
 ],
 "metadata": {
  "kernelspec": {
   "display_name": ".venv",
   "language": "python",
   "name": "python3"
  },
  "language_info": {
   "codemirror_mode": {
    "name": "ipython",
    "version": 3
   },
   "file_extension": ".py",
   "mimetype": "text/x-python",
   "name": "python",
   "nbconvert_exporter": "python",
   "pygments_lexer": "ipython3",
   "version": "3.9.6"
  }
 },
 "nbformat": 4,
 "nbformat_minor": 2
}
